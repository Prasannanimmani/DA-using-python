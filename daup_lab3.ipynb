{
  "nbformat": 4,
  "nbformat_minor": 0,
  "metadata": {
    "colab": {
      "provenance": []
    },
    "kernelspec": {
      "name": "python3",
      "display_name": "Python 3"
    },
    "language_info": {
      "name": "python"
    }
  },
  "cells": [
    {
      "cell_type": "code",
      "source": [
        "import kagglehub\n",
        "\n",
        "# Download latest version\n",
        "path = kagglehub.dataset_download(\"olcaybolat1/dermatology-dataset-classification\")\n",
        "\n",
        "print(\"Path to dataset files:\", path)"
      ],
      "metadata": {
        "id": "KULur1uHio1C"
      },
      "execution_count": null,
      "outputs": []
    },
    {
      "cell_type": "code",
      "source": [
        "import pandas as pd\n",
        "from sklearn.model_selection import train_test_split\n",
        "from sklearn.svm import SVC\n",
        "from sklearn.ensemble import RandomForestClassifier\n",
        "from sklearn.metrics import accuracy_score\n",
        "\n",
        "\n",
        "# Assuming your dataset is a CSV file named 'dermatology.csv' within the downloaded path\n",
        "data = pd.read_csv(path + '/dermatology_database_1.csv')"
      ],
      "metadata": {
        "id": "ZgVq0DJKisuv"
      },
      "execution_count": null,
      "outputs": []
    },
    {
      "cell_type": "code",
      "source": [
        "# Assuming your dataset is a CSV file named 'dermatology.csv' within the downloaded path\n",
        "data = pd.read_csv(path + '/dermatology_database_1.csv')\n",
        "# Display the first few rows of the DataFrame\n",
        "data.head() # Change df to data"
      ],
      "metadata": {
        "id": "svrBHqA2itvL"
      },
      "execution_count": null,
      "outputs": []
    },
    {
      "cell_type": "code",
      "source": [
        "X = data.drop('class', axis=1)  # Assuming 'class' is the target column\n",
        "y = data['class']\n",
        "\n",
        "X_train, X_test, y_train, y_test = train_test_split(X, y, test_size=0.2, random_state=42)  # 80% train, 20% test"
      ],
      "metadata": {
        "id": "oWdSK-WAiygC"
      },
      "execution_count": null,
      "outputs": []
    },
    {
      "cell_type": "code",
      "source": [
        "X = data.drop('class', axis=1)  # Assuming 'class' is the target column\n",
        "y = data['class']\n",
        "\n",
        "X_train, X_test, y_train, y_test = train_test_split(X, y, test_size=0.2, random_state=42)  # 80% train, 20% test"
      ],
      "metadata": {
        "id": "5gjGYuBbi0at"
      },
      "execution_count": null,
      "outputs": []
    },
    {
      "cell_type": "code",
      "source": [
        "import pandas as pd\n",
        "from sklearn.model_selection import train_test_split\n",
        "from sklearn.svm import SVC\n",
        "from sklearn.ensemble import RandomForestClassifier\n",
        "from sklearn.metrics import accuracy_score\n",
        "\n",
        "# Assuming your dataset is a CSV file named 'dermatology.csv' within the downloaded path\n",
        "data = pd.read_csv(path + '/dermatology_database_1.csv', na_values=['?']) # Tell pandas to treat '?' as NaN\n",
        "\n",
        "# Now you can handle missing values (NaN) as needed:\n",
        "# 1. Drop rows with missing values:\n",
        "data.dropna(inplace=True)\n",
        "# 2. Impute missing values with the mean, median, or a constant:\n",
        "# data.fillna(data.mean(), inplace=True)  # Replace with mean of each column\n",
        "\n",
        "\n",
        "X = data.drop('class', axis=1)  # Assuming 'class' is the target column\n",
        "y = data['class']\n",
        "\n",
        "X_train, X_test, y_train, y_test = train_test_split(X, y, test_size=0.2, random_state=42)  # 80% train, 20% test\n",
        "\n",
        "svm_model = SVC(kernel='linear')  # You can choose different kernels\n",
        "svm_model.fit(X_train, y_train)\n",
        "svm_predictions = svm_model.predict(X_test)\n",
        "svm_accuracy = accuracy_score(y_test, svm_predictions)\n",
        "\n",
        "\n",
        "rf_model = RandomForestClassifier(n_estimators=100, random_state=42)  # You can adjust hyperparameters\n",
        "rf_model.fit(X_train, y_train)\n",
        "\n",
        "RandomForestClassifier(random_state=42)"
      ],
      "metadata": {
        "id": "WlWHTrlii8WN"
      },
      "execution_count": null,
      "outputs": []
    },
    {
      "cell_type": "code",
      "source": [
        "svm_predictions = svm_model.predict(X_test)\n",
        "rf_predictions = rf_model.predict(X_test)\n",
        "\n",
        "svm_accuracy = accuracy_score(y_test, svm_predictions)\n",
        "rf_accuracy = accuracy_score(y_test, rf_predictions)\n",
        "\n",
        "print(\"SVM Accuracy:\", svm_accuracy)\n",
        "print(\"Random Forest Accuracy:\", rf_accuracy)"
      ],
      "metadata": {
        "id": "AIYiFAxni-6r"
      },
      "execution_count": null,
      "outputs": []
    },
    {
      "cell_type": "code",
      "source": [
        "import pandas as pd\n",
        "import matplotlib.pyplot as plt\n",
        "\n",
        "\n",
        "# Assuming you have already loaded the dataset into the 'data' variable\n",
        "# If not, load it using:\n",
        "data = pd.read_csv(path + '/dermatology_database_1.csv')\n",
        "\n",
        "\n",
        "data.hist(figsize=(12, 10))  # Adjust figsize as needed\n",
        "plt.tight_layout()  # To prevent overlapping of plots\n",
        "plt.show()"
      ],
      "metadata": {
        "id": "TuEGBvivjD_b"
      },
      "execution_count": null,
      "outputs": []
    },
    {
      "cell_type": "code",
      "source": [
        "import pandas as pd\n",
        "import matplotlib.pyplot as plt\n",
        "\n",
        "# Assuming you have already loaded the dataset into the 'data' variable\n",
        "# If not, load it using:\n",
        "data = pd.read_csv(path + '/dermatology_database_1.csv')\n",
        "\n",
        "# Replace 'actual_column_name' with the name of a column in your dataset\n",
        "data['age'].hist()  # Example: Creating a histogram for the 'age' column\n",
        "plt.show()"
      ],
      "metadata": {
        "id": "fxKlR0gjjG9M"
      },
      "execution_count": null,
      "outputs": []
    }
  ]
}